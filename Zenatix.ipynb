{
 "cells": [
  {
   "cell_type": "markdown",
   "id": "09a3cdf0",
   "metadata": {},
   "source": [
    "# Comparative Analysis of Different Refrigiration Systems"
   ]
  },
  {
   "cell_type": "markdown",
   "id": "02de6e3c",
   "metadata": {},
   "source": [
    "### Problem Statement\n",
    "\n",
    "Do a comparative analysis of following parameters of different refrigiration systems. You are allowed to use any tool for the analysis.\n",
    "\n",
    "1. Duty cycle\n",
    "2. Set temperature range (lower threshold and upper threshold)\n",
    "3. Average daily energy consumption\n",
    "4. Percentage of temperature compliance\n"
   ]
  },
  {
   "cell_type": "code",
   "execution_count": 102,
   "id": "f8c7a0d0",
   "metadata": {},
   "outputs": [
    {
     "data": {
      "text/html": [
       "<div>\n",
       "<style scoped>\n",
       "    .dataframe tbody tr th:only-of-type {\n",
       "        vertical-align: middle;\n",
       "    }\n",
       "\n",
       "    .dataframe tbody tr th {\n",
       "        vertical-align: top;\n",
       "    }\n",
       "\n",
       "    .dataframe thead th {\n",
       "        text-align: right;\n",
       "    }\n",
       "</style>\n",
       "<table border=\"1\" class=\"dataframe\">\n",
       "  <thead>\n",
       "    <tr style=\"text-align: right;\">\n",
       "      <th></th>\n",
       "      <th>Datetime</th>\n",
       "      <th>Power-1</th>\n",
       "      <th>Temperature-1</th>\n",
       "      <th>Power-2</th>\n",
       "      <th>Temperature-2</th>\n",
       "      <th>Power-3</th>\n",
       "      <th>Temperature-3</th>\n",
       "      <th>Power-4</th>\n",
       "      <th>Temperature-4</th>\n",
       "    </tr>\n",
       "  </thead>\n",
       "  <tbody>\n",
       "    <tr>\n",
       "      <th>0</th>\n",
       "      <td>2017-08-01 00:00:00</td>\n",
       "      <td>2.2585</td>\n",
       "      <td>4.810</td>\n",
       "      <td>3.2310</td>\n",
       "      <td>0.495</td>\n",
       "      <td>0.0</td>\n",
       "      <td>8.93</td>\n",
       "      <td>0.3080</td>\n",
       "      <td>3.340</td>\n",
       "    </tr>\n",
       "    <tr>\n",
       "      <th>1</th>\n",
       "      <td>2017-08-01 00:01:00</td>\n",
       "      <td>2.2035</td>\n",
       "      <td>3.900</td>\n",
       "      <td>3.1880</td>\n",
       "      <td>0.245</td>\n",
       "      <td>0.0</td>\n",
       "      <td>8.90</td>\n",
       "      <td>1.3380</td>\n",
       "      <td>3.435</td>\n",
       "    </tr>\n",
       "    <tr>\n",
       "      <th>2</th>\n",
       "      <td>2017-08-01 00:02:00</td>\n",
       "      <td>2.1300</td>\n",
       "      <td>3.155</td>\n",
       "      <td>3.1845</td>\n",
       "      <td>0.000</td>\n",
       "      <td>0.0</td>\n",
       "      <td>8.87</td>\n",
       "      <td>2.3695</td>\n",
       "      <td>2.715</td>\n",
       "    </tr>\n",
       "    <tr>\n",
       "      <th>3</th>\n",
       "      <td>2017-08-01 00:03:00</td>\n",
       "      <td>2.1425</td>\n",
       "      <td>2.715</td>\n",
       "      <td>3.1695</td>\n",
       "      <td>-0.215</td>\n",
       "      <td>0.0</td>\n",
       "      <td>8.81</td>\n",
       "      <td>2.2265</td>\n",
       "      <td>2.125</td>\n",
       "    </tr>\n",
       "    <tr>\n",
       "      <th>4</th>\n",
       "      <td>2017-08-01 00:04:00</td>\n",
       "      <td>1.2250</td>\n",
       "      <td>2.310</td>\n",
       "      <td>3.1735</td>\n",
       "      <td>-0.495</td>\n",
       "      <td>0.0</td>\n",
       "      <td>8.81</td>\n",
       "      <td>2.2310</td>\n",
       "      <td>1.745</td>\n",
       "    </tr>\n",
       "  </tbody>\n",
       "</table>\n",
       "</div>"
      ],
      "text/plain": [
       "             Datetime  Power-1  Temperature-1  Power-2  Temperature-2  \\\n",
       "0 2017-08-01 00:00:00   2.2585          4.810   3.2310          0.495   \n",
       "1 2017-08-01 00:01:00   2.2035          3.900   3.1880          0.245   \n",
       "2 2017-08-01 00:02:00   2.1300          3.155   3.1845          0.000   \n",
       "3 2017-08-01 00:03:00   2.1425          2.715   3.1695         -0.215   \n",
       "4 2017-08-01 00:04:00   1.2250          2.310   3.1735         -0.495   \n",
       "\n",
       "   Power-3  Temperature-3  Power-4  Temperature-4  \n",
       "0      0.0           8.93   0.3080          3.340  \n",
       "1      0.0           8.90   1.3380          3.435  \n",
       "2      0.0           8.87   2.3695          2.715  \n",
       "3      0.0           8.81   2.2265          2.125  \n",
       "4      0.0           8.81   2.2310          1.745  "
      ]
     },
     "execution_count": 102,
     "metadata": {},
     "output_type": "execute_result"
    }
   ],
   "source": [
    "import pandas as pd\n",
    "import numpy as np\n",
    "df= pd.read_excel(r'C:\\Users\\lenovo\\Desktop\\data\\zenatix.xlsx')\n",
    "df.head()"
   ]
  },
  {
   "cell_type": "markdown",
   "id": "5674ec15",
   "metadata": {},
   "source": [
    "#### I edited out a little bit on excel to get clear seggregation of columns. i.e power-n, Temperature-n are characteristics of nth refrigirator respectively.\n",
    "\n",
    "1. Refrigirator-1 : Power-1, Temperature-1\n",
    "2. Refrigirator-2 : Power-2, Temperature-2\n",
    "3. Refrigirator-3 : Power-3, Temperature-3\n",
    "4. Refrigirator-4 : Power-4, Temperature-4"
   ]
  },
  {
   "cell_type": "code",
   "execution_count": 103,
   "id": "52120c01",
   "metadata": {},
   "outputs": [
    {
     "name": "stdout",
     "output_type": "stream",
     "text": [
      "<class 'pandas.core.frame.DataFrame'>\n",
      "RangeIndex: 14400 entries, 0 to 14399\n",
      "Data columns (total 9 columns):\n",
      " #   Column         Non-Null Count  Dtype         \n",
      "---  ------         --------------  -----         \n",
      " 0   Datetime       14400 non-null  datetime64[ns]\n",
      " 1   Power-1        14323 non-null  float64       \n",
      " 2   Temperature-1  14400 non-null  float64       \n",
      " 3   Power-2        13906 non-null  float64       \n",
      " 4   Temperature-2  14013 non-null  float64       \n",
      " 5   Power-3        14167 non-null  float64       \n",
      " 6   Temperature-3  14400 non-null  float64       \n",
      " 7   Power-4        13158 non-null  float64       \n",
      " 8   Temperature-4  14330 non-null  float64       \n",
      "dtypes: datetime64[ns](1), float64(8)\n",
      "memory usage: 1012.6 KB\n"
     ]
    }
   ],
   "source": [
    "df.info()"
   ]
  },
  {
   "cell_type": "code",
   "execution_count": 104,
   "id": "52adae8f",
   "metadata": {},
   "outputs": [
    {
     "data": {
      "text/plain": [
       "Datetime            0\n",
       "Power-1            77\n",
       "Temperature-1       0\n",
       "Power-2           494\n",
       "Temperature-2     387\n",
       "Power-3           233\n",
       "Temperature-3       0\n",
       "Power-4          1242\n",
       "Temperature-4      70\n",
       "dtype: int64"
      ]
     },
     "execution_count": 104,
     "metadata": {},
     "output_type": "execute_result"
    }
   ],
   "source": [
    "df.isna().sum()"
   ]
  },
  {
   "cell_type": "code",
   "execution_count": 105,
   "id": "4c785a39",
   "metadata": {},
   "outputs": [],
   "source": [
    "df.fillna(0,inplace=True)"
   ]
  },
  {
   "cell_type": "markdown",
   "id": "fed3489e",
   "metadata": {},
   "source": [
    "## Visualizations"
   ]
  },
  {
   "cell_type": "code",
   "execution_count": 110,
   "id": "44f21646",
   "metadata": {},
   "outputs": [
    {
     "name": "stderr",
     "output_type": "stream",
     "text": [
      "C:\\Users\\lenovo\\anaconda3\\lib\\site-packages\\seaborn\\distributions.py:2619: FutureWarning: `distplot` is a deprecated function and will be removed in a future version. Please adapt your code to use either `displot` (a figure-level function with similar flexibility) or `histplot` (an axes-level function for histograms).\n",
      "  warnings.warn(msg, FutureWarning)\n"
     ]
    },
    {
     "data": {
      "image/png": "[encoded data removed]",
      "text/plain": [
       "<Figure size 432x288 with 1 Axes>"
      ]
     },
     "metadata": {
      "needs_background": "light"
     },
     "output_type": "display_data"
    },
    {
     "name": "stderr",
     "output_type": "stream",
     "text": [
      "C:\\Users\\lenovo\\anaconda3\\lib\\site-packages\\seaborn\\distributions.py:2619: FutureWarning: `distplot` is a deprecated function and will be removed in a future version. Please adapt your code to use either `displot` (a figure-level function with similar flexibility) or `histplot` (an axes-level function for histograms).\n",
      "  warnings.warn(msg, FutureWarning)\n"
     ]
    },
    {
     "data": {
      "image/png": "[encoded data removed]",
      "text/plain": [
       "<Figure size 432x288 with 1 Axes>"
      ]
     },
     "metadata": {
      "needs_background": "light"
     },
     "output_type": "display_data"
    },
    {
     "name": "stderr",
     "output_type": "stream",
     "text": [
      "C:\\Users\\lenovo\\anaconda3\\lib\\site-packages\\seaborn\\distributions.py:2619: FutureWarning: `distplot` is a deprecated function and will be removed in a future version. Please adapt your code to use either `displot` (a figure-level function with similar flexibility) or `histplot` (an axes-level function for histograms).\n",
      "  warnings.warn(msg, FutureWarning)\n"
     ]
    },
    {
     "data": {
      "image/png": "[encoded data removed]",
      "text/plain": [
       "<Figure size 432x288 with 1 Axes>"
      ]
     },
     "metadata": {
      "needs_background": "light"
     },
     "output_type": "display_data"
    },
    {
     "name": "stderr",
     "output_type": "stream",
     "text": [
      "C:\\Users\\lenovo\\anaconda3\\lib\\site-packages\\seaborn\\distributions.py:2619: FutureWarning: `distplot` is a deprecated function and will be removed in a future version. Please adapt your code to use either `displot` (a figure-level function with similar flexibility) or `histplot` (an axes-level function for histograms).\n",
      "  warnings.warn(msg, FutureWarning)\n"
     ]
    },
    {
     "data": {
      "image/png": "[encoded data removed]",
      "text/plain": [
       "<Figure size 432x288 with 1 Axes>"
      ]
     },
     "metadata": {
      "needs_background": "light"
     },
     "output_type": "display_data"
    },
    {
     "name": "stderr",
     "output_type": "stream",
     "text": [
      "C:\\Users\\lenovo\\anaconda3\\lib\\site-packages\\seaborn\\distributions.py:2619: FutureWarning: `distplot` is a deprecated function and will be removed in a future version. Please adapt your code to use either `displot` (a figure-level function with similar flexibility) or `histplot` (an axes-level function for histograms).\n",
      "  warnings.warn(msg, FutureWarning)\n"
     ]
    },
    {
     "data": {
      "image/png": "[encoded data removed]",
      "text/plain": [
       "<Figure size 432x288 with 1 Axes>"
      ]
     },
     "metadata": {
      "needs_background": "light"
     },
     "output_type": "display_data"
    },
    {
     "name": "stderr",
     "output_type": "stream",
     "text": [
      "C:\\Users\\lenovo\\anaconda3\\lib\\site-packages\\seaborn\\distributions.py:2619: FutureWarning: `distplot` is a deprecated function and will be removed in a future version. Please adapt your code to use either `displot` (a figure-level function with similar flexibility) or `histplot` (an axes-level function for histograms).\n",
      "  warnings.warn(msg, FutureWarning)\n"
     ]
    },
    {
     "data": {
      "image/png": "[encoded data removed]",
      "text/plain": [
       "<Figure size 432x288 with 1 Axes>"
      ]
     },
     "metadata": {
      "needs_background": "light"
     },
     "output_type": "display_data"
    },
    {
     "name": "stderr",
     "output_type": "stream",
     "text": [
      "C:\\Users\\lenovo\\anaconda3\\lib\\site-packages\\seaborn\\distributions.py:2619: FutureWarning: `distplot` is a deprecated function and will be removed in a future version. Please adapt your code to use either `displot` (a figure-level function with similar flexibility) or `histplot` (an axes-level function for histograms).\n",
      "  warnings.warn(msg, FutureWarning)\n"
     ]
    },
    {
     "data": {
      "image/png": "[encoded data removed]",
      "text/plain": [
       "<Figure size 432x288 with 1 Axes>"
      ]
     },
     "metadata": {
      "needs_background": "light"
     },
     "output_type": "display_data"
    },
    {
     "name": "stderr",
     "output_type": "stream",
     "text": [
      "C:\\Users\\lenovo\\anaconda3\\lib\\site-packages\\seaborn\\distributions.py:2619: FutureWarning: `distplot` is a deprecated function and will be removed in a future version. Please adapt your code to use either `displot` (a figure-level function with similar flexibility) or `histplot` (an axes-level function for histograms).\n",
      "  warnings.warn(msg, FutureWarning)\n"
     ]
    },
    {
     "data": {
      "image/png": "[encoded data removed]",
      "text/plain": [
       "<Figure size 432x288 with 1 Axes>"
      ]
     },
     "metadata": {
      "needs_background": "light"
     },
     "output_type": "display_data"
    }
   ],
   "source": [
    "# Distributions of all characteristics using dist plot\n",
    "\n",
    "import seaborn as sns\n",
    "import matplotlib.pyplot as plt\n",
    "cols= df.columns\n",
    "cols=cols.drop('Datetime')\n",
    "for i in cols:\n",
    "    sns.distplot(df[i])\n",
    "    plt.show()"
   ]
  },
  {
   "cell_type": "markdown",
   "id": "f8ed2519",
   "metadata": {},
   "source": [
    "## Duty Cycle"
   ]
  },
  {
   "cell_type": "code",
   "execution_count": 18,
   "id": "45d5125e",
   "metadata": {},
   "outputs": [],
   "source": [
    "### duty cycle of a refrigirator= 100* (active time)/total time\n",
    "\n",
    "dc_1= (100*len(df[df['Power-1']!=0]['Power-1'])/14400)\n",
    "dc_2= (100*len(df[df['Power-2']!=0]['Power-1'])/14400)\n",
    "dc_3= (100*len(df[df['Power-3']!=0]['Power-1'])/14400)\n",
    "dc_4= (100*len(df[df['Power-4']!=0]['Power-1'])/14400)"
   ]
  },
  {
   "cell_type": "code",
   "execution_count": 115,
   "id": "ddbead55",
   "metadata": {},
   "outputs": [
    {
     "data": {
      "text/html": [
       "<div>\n",
       "<style scoped>\n",
       "    .dataframe tbody tr th:only-of-type {\n",
       "        vertical-align: middle;\n",
       "    }\n",
       "\n",
       "    .dataframe tbody tr th {\n",
       "        vertical-align: top;\n",
       "    }\n",
       "\n",
       "    .dataframe thead th {\n",
       "        text-align: right;\n",
       "    }\n",
       "</style>\n",
       "<table border=\"1\" class=\"dataframe\">\n",
       "  <thead>\n",
       "    <tr style=\"text-align: right;\">\n",
       "      <th></th>\n",
       "      <th>Refrigirator</th>\n",
       "      <th>Duty_Cycle</th>\n",
       "    </tr>\n",
       "  </thead>\n",
       "  <tbody>\n",
       "    <tr>\n",
       "      <th>0</th>\n",
       "      <td>Refrigirator-1</td>\n",
       "      <td>97.173611</td>\n",
       "    </tr>\n",
       "    <tr>\n",
       "      <th>1</th>\n",
       "      <td>Refrigirator-2</td>\n",
       "      <td>94.513889</td>\n",
       "    </tr>\n",
       "    <tr>\n",
       "      <th>2</th>\n",
       "      <td>Refrigirator-3</td>\n",
       "      <td>90.187500</td>\n",
       "    </tr>\n",
       "    <tr>\n",
       "      <th>3</th>\n",
       "      <td>Refrigirator-4</td>\n",
       "      <td>91.118056</td>\n",
       "    </tr>\n",
       "  </tbody>\n",
       "</table>\n",
       "</div>"
      ],
      "text/plain": [
       "     Refrigirator  Duty_Cycle\n",
       "0  Refrigirator-1   97.173611\n",
       "1  Refrigirator-2   94.513889\n",
       "2  Refrigirator-3   90.187500\n",
       "3  Refrigirator-4   91.118056"
      ]
     },
     "execution_count": 115,
     "metadata": {},
     "output_type": "execute_result"
    }
   ],
   "source": [
    "a= [dc_1,dc_2,dc_3,dc_4]\n",
    "b= ['Refrigirator-1','Refrigirator-2','Refrigirator-3','Refrigirator-4']\n",
    "dc= pd.DataFrame({'Refrigirator':b,'Duty_Cycle':a})\n",
    "dc"
   ]
  },
  {
   "cell_type": "markdown",
   "id": "716671eb",
   "metadata": {},
   "source": [
    "## Average daily energy consumption of each Refrigirator"
   ]
  },
  {
   "cell_type": "code",
   "execution_count": 24,
   "id": "7c7c36ef",
   "metadata": {},
   "outputs": [],
   "source": [
    "df['new']= df['Datetime'].astype('str')\n",
    "df['Date']= df['new'].str[:10]"
   ]
  },
  {
   "cell_type": "code",
   "execution_count": 26,
   "id": "2a1d09ed",
   "metadata": {},
   "outputs": [],
   "source": [
    "df.drop('new',axis=1,inplace=True)"
   ]
  },
  {
   "cell_type": "markdown",
   "id": "b53d4ae8",
   "metadata": {},
   "source": [
    "#### Average Daily power consumption of 1st Refrigirator"
   ]
  },
  {
   "cell_type": "code",
   "execution_count": 73,
   "id": "b9a7d767",
   "metadata": {},
   "outputs": [],
   "source": [
    "avg_daily_1=df.groupby('Date')['Power-1'].mean()\n",
    "avg_daily_1= pd.DataFrame(avg_daily_1)\n",
    "avg_daily_1.rename(columns={'Power-1':'Average Power of Refrigirator-1 in KW'},inplace=True)"
   ]
  },
  {
   "cell_type": "markdown",
   "id": "19155609",
   "metadata": {},
   "source": [
    "#### Average Daily power consumption of 2nd Refrigirator"
   ]
  },
  {
   "cell_type": "code",
   "execution_count": 72,
   "id": "5d8fb407",
   "metadata": {},
   "outputs": [],
   "source": [
    "avg_daily_2=df.groupby('Date')['Power-2'].mean()\n",
    "avg_daily_2= pd.DataFrame(avg_daily_2)\n",
    "avg_daily_2.rename(columns={'Power-2':'Average Power of Refrigirator-2 in KW'},inplace=True)\n",
    "avg_daily_2.reset_index(inplace=True)"
   ]
  },
  {
   "cell_type": "markdown",
   "id": "70e5c02b",
   "metadata": {},
   "source": [
    "#### Average Daily power consumption of 3rd Refrigirator"
   ]
  },
  {
   "cell_type": "code",
   "execution_count": 71,
   "id": "6a81016c",
   "metadata": {},
   "outputs": [],
   "source": [
    "avg_daily_3=df.groupby('Date')['Power-3'].mean()\n",
    "avg_daily_3= pd.DataFrame(avg_daily_3)\n",
    "avg_daily_3.rename(columns={'Power-3':'Average Power of Refrigirator-3 in KW'},inplace=True)\n",
    "avg_daily_3.reset_index(inplace=True)"
   ]
  },
  {
   "cell_type": "markdown",
   "id": "47a2ae27",
   "metadata": {},
   "source": [
    "#### Average Daily power consumption of 4th Refrigirator"
   ]
  },
  {
   "cell_type": "code",
   "execution_count": 70,
   "id": "579bb6fb",
   "metadata": {},
   "outputs": [],
   "source": [
    "avg_daily_4=df.groupby('Date')['Power-4'].mean()\n",
    "avg_daily_4= pd.DataFrame(avg_daily_4)\n",
    "avg_daily_4.rename(columns={'Power-4':'Average Power of Refrigirator-4 in KW'},inplace=True)\n",
    "avg_daily_4.reset_index(inplace=True)"
   ]
  },
  {
   "cell_type": "code",
   "execution_count": 69,
   "id": "7d6462dd",
   "metadata": {},
   "outputs": [
    {
     "data": {
      "text/html": [
       "<div>\n",
       "<style scoped>\n",
       "    .dataframe tbody tr th:only-of-type {\n",
       "        vertical-align: middle;\n",
       "    }\n",
       "\n",
       "    .dataframe tbody tr th {\n",
       "        vertical-align: top;\n",
       "    }\n",
       "\n",
       "    .dataframe thead th {\n",
       "        text-align: right;\n",
       "    }\n",
       "</style>\n",
       "<table border=\"1\" class=\"dataframe\">\n",
       "  <thead>\n",
       "    <tr style=\"text-align: right;\">\n",
       "      <th></th>\n",
       "      <th>Date</th>\n",
       "      <th>Avg_power_consumtion_Ref_1</th>\n",
       "      <th>Avg_power_consumtion_Ref_2</th>\n",
       "      <th>Avg_power_consumtion_Ref_3</th>\n",
       "      <th>Avg_power_consumtion_Ref_4</th>\n",
       "    </tr>\n",
       "  </thead>\n",
       "  <tbody>\n",
       "    <tr>\n",
       "      <th>0</th>\n",
       "      <td>2017-08-01</td>\n",
       "      <td>1.190107</td>\n",
       "      <td>1.657013</td>\n",
       "      <td>1.478483</td>\n",
       "      <td>1.154921</td>\n",
       "    </tr>\n",
       "    <tr>\n",
       "      <th>1</th>\n",
       "      <td>2017-08-02</td>\n",
       "      <td>1.140659</td>\n",
       "      <td>1.596978</td>\n",
       "      <td>1.596514</td>\n",
       "      <td>1.319603</td>\n",
       "    </tr>\n",
       "    <tr>\n",
       "      <th>2</th>\n",
       "      <td>2017-08-03</td>\n",
       "      <td>1.075128</td>\n",
       "      <td>1.653283</td>\n",
       "      <td>1.554663</td>\n",
       "      <td>1.258080</td>\n",
       "    </tr>\n",
       "    <tr>\n",
       "      <th>3</th>\n",
       "      <td>2017-08-04</td>\n",
       "      <td>1.161720</td>\n",
       "      <td>1.728209</td>\n",
       "      <td>1.541611</td>\n",
       "      <td>0.914981</td>\n",
       "    </tr>\n",
       "    <tr>\n",
       "      <th>4</th>\n",
       "      <td>2017-08-05</td>\n",
       "      <td>1.119115</td>\n",
       "      <td>1.433434</td>\n",
       "      <td>1.655300</td>\n",
       "      <td>1.227346</td>\n",
       "    </tr>\n",
       "    <tr>\n",
       "      <th>5</th>\n",
       "      <td>2017-08-06</td>\n",
       "      <td>1.235533</td>\n",
       "      <td>1.761738</td>\n",
       "      <td>1.604992</td>\n",
       "      <td>1.242848</td>\n",
       "    </tr>\n",
       "    <tr>\n",
       "      <th>6</th>\n",
       "      <td>2017-08-07</td>\n",
       "      <td>1.078486</td>\n",
       "      <td>1.603699</td>\n",
       "      <td>1.120285</td>\n",
       "      <td>1.207620</td>\n",
       "    </tr>\n",
       "    <tr>\n",
       "      <th>7</th>\n",
       "      <td>2017-08-08</td>\n",
       "      <td>1.051127</td>\n",
       "      <td>1.720998</td>\n",
       "      <td>1.766105</td>\n",
       "      <td>1.369650</td>\n",
       "    </tr>\n",
       "    <tr>\n",
       "      <th>8</th>\n",
       "      <td>2017-08-09</td>\n",
       "      <td>1.043460</td>\n",
       "      <td>1.618228</td>\n",
       "      <td>1.619632</td>\n",
       "      <td>1.439618</td>\n",
       "    </tr>\n",
       "    <tr>\n",
       "      <th>9</th>\n",
       "      <td>2017-08-10</td>\n",
       "      <td>1.078548</td>\n",
       "      <td>1.724669</td>\n",
       "      <td>1.839346</td>\n",
       "      <td>1.402834</td>\n",
       "    </tr>\n",
       "  </tbody>\n",
       "</table>\n",
       "</div>"
      ],
      "text/plain": [
       "         Date  Avg_power_consumtion_Ref_1  Avg_power_consumtion_Ref_2  \\\n",
       "0  2017-08-01                    1.190107                    1.657013   \n",
       "1  2017-08-02                    1.140659                    1.596978   \n",
       "2  2017-08-03                    1.075128                    1.653283   \n",
       "3  2017-08-04                    1.161720                    1.728209   \n",
       "4  2017-08-05                    1.119115                    1.433434   \n",
       "5  2017-08-06                    1.235533                    1.761738   \n",
       "6  2017-08-07                    1.078486                    1.603699   \n",
       "7  2017-08-08                    1.051127                    1.720998   \n",
       "8  2017-08-09                    1.043460                    1.618228   \n",
       "9  2017-08-10                    1.078548                    1.724669   \n",
       "\n",
       "   Avg_power_consumtion_Ref_3  Avg_power_consumtion_Ref_4  \n",
       "0                    1.478483                    1.154921  \n",
       "1                    1.596514                    1.319603  \n",
       "2                    1.554663                    1.258080  \n",
       "3                    1.541611                    0.914981  \n",
       "4                    1.655300                    1.227346  \n",
       "5                    1.604992                    1.242848  \n",
       "6                    1.120285                    1.207620  \n",
       "7                    1.766105                    1.369650  \n",
       "8                    1.619632                    1.439618  \n",
       "9                    1.839346                    1.402834  "
      ]
     },
     "execution_count": 69,
     "metadata": {},
     "output_type": "execute_result"
    }
   ],
   "source": [
    "final_df= pd.DataFrame({'Date':avg_daily_4['Date'],'Avg_power_consumtion_Ref_1':avg_daily_1['Average Power of Refrigirator-1 in KW'],\n",
    "                       'Avg_power_consumtion_Ref_2':avg_daily_2['Average Power of Refrigirator-2 in KW'],\n",
    "                       'Avg_power_consumtion_Ref_3':avg_daily_3['Average Power of Refrigirator-3 in KW'],\n",
    "                       'Avg_power_consumtion_Ref_4':avg_daily_4['Average Power of Refrigirator-4 in KW']})\n",
    "final_df"
   ]
  },
  {
   "cell_type": "code",
   "execution_count": 108,
   "id": "eb458b75",
   "metadata": {},
   "outputs": [
    {
     "data": {
      "image/png": "[encoded data removed]",
      "text/plain": [
       "<Figure size 576x432 with 1 Axes>"
      ]
     },
     "metadata": {
      "needs_background": "light"
     },
     "output_type": "display_data"
    }
   ],
   "source": [
    "plt.figure(figsize=(8,6))\n",
    "sns.lineplot(x=final_df['Date'],y=final_df['Avg_power_consumtion_Ref_1'],label='Refrigirator-1')\n",
    "sns.lineplot(x=final_df['Date'],y=final_df['Avg_power_consumtion_Ref_2'],label='Refrigirator-2')\n",
    "sns.lineplot(x=final_df['Date'],y=final_df['Avg_power_consumtion_Ref_3'],label='Refrigirator-3')\n",
    "sns.lineplot(x=final_df['Date'],y=final_df['Avg_power_consumtion_Ref_4'],label='Refrigirator-4')\n",
    "plt.legend()\n",
    "plt.xticks(rotation=90)\n",
    "plt.ylabel('Power Consumed in KW')\n",
    "plt.title('Comparision of Avg Power Consumptions of different Refrigirators',size=15)\n",
    "plt.show()"
   ]
  },
  {
   "cell_type": "markdown",
   "id": "aa3af615",
   "metadata": {},
   "source": [
    "## Temperature range (lower threshold and upper threshold)"
   ]
  },
  {
   "cell_type": "code",
   "execution_count": 153,
   "id": "86f811a0",
   "metadata": {},
   "outputs": [
    {
     "data": {
      "text/html": [
       "<div>\n",
       "<style scoped>\n",
       "    .dataframe tbody tr th:only-of-type {\n",
       "        vertical-align: middle;\n",
       "    }\n",
       "\n",
       "    .dataframe tbody tr th {\n",
       "        vertical-align: top;\n",
       "    }\n",
       "\n",
       "    .dataframe thead th {\n",
       "        text-align: right;\n",
       "    }\n",
       "</style>\n",
       "<table border=\"1\" class=\"dataframe\">\n",
       "  <thead>\n",
       "    <tr style=\"text-align: right;\">\n",
       "      <th></th>\n",
       "      <th>Power-1</th>\n",
       "      <th>Temperature-1</th>\n",
       "      <th>Power-2</th>\n",
       "      <th>Temperature-2</th>\n",
       "      <th>Power-3</th>\n",
       "      <th>Temperature-3</th>\n",
       "      <th>Power-4</th>\n",
       "      <th>Temperature-4</th>\n",
       "    </tr>\n",
       "  </thead>\n",
       "  <tbody>\n",
       "    <tr>\n",
       "      <th>count</th>\n",
       "      <td>14400.000000</td>\n",
       "      <td>14400.000000</td>\n",
       "      <td>14400.000000</td>\n",
       "      <td>14400.000000</td>\n",
       "      <td>14400.000000</td>\n",
       "      <td>14400.000000</td>\n",
       "      <td>14400.000000</td>\n",
       "      <td>14400.000000</td>\n",
       "    </tr>\n",
       "    <tr>\n",
       "      <th>mean</th>\n",
       "      <td>1.117388</td>\n",
       "      <td>3.815729</td>\n",
       "      <td>1.649825</td>\n",
       "      <td>2.032753</td>\n",
       "      <td>1.577693</td>\n",
       "      <td>4.118913</td>\n",
       "      <td>1.253750</td>\n",
       "      <td>2.930061</td>\n",
       "    </tr>\n",
       "    <tr>\n",
       "      <th>std</th>\n",
       "      <td>0.921004</td>\n",
       "      <td>2.035919</td>\n",
       "      <td>1.509209</td>\n",
       "      <td>3.344255</td>\n",
       "      <td>0.920346</td>\n",
       "      <td>3.401599</td>\n",
       "      <td>1.024295</td>\n",
       "      <td>2.578354</td>\n",
       "    </tr>\n",
       "    <tr>\n",
       "      <th>min</th>\n",
       "      <td>0.000000</td>\n",
       "      <td>1.650000</td>\n",
       "      <td>0.000000</td>\n",
       "      <td>-4.090000</td>\n",
       "      <td>0.000000</td>\n",
       "      <td>1.090000</td>\n",
       "      <td>0.000000</td>\n",
       "      <td>0.000000</td>\n",
       "    </tr>\n",
       "    <tr>\n",
       "      <th>25%</th>\n",
       "      <td>0.293000</td>\n",
       "      <td>2.840000</td>\n",
       "      <td>0.389500</td>\n",
       "      <td>-0.250000</td>\n",
       "      <td>0.278000</td>\n",
       "      <td>2.180000</td>\n",
       "      <td>0.308500</td>\n",
       "      <td>1.590000</td>\n",
       "    </tr>\n",
       "    <tr>\n",
       "      <th>50%</th>\n",
       "      <td>0.321000</td>\n",
       "      <td>3.805000</td>\n",
       "      <td>0.394500</td>\n",
       "      <td>1.905000</td>\n",
       "      <td>2.083000</td>\n",
       "      <td>2.840000</td>\n",
       "      <td>1.272250</td>\n",
       "      <td>2.435000</td>\n",
       "    </tr>\n",
       "    <tr>\n",
       "      <th>75%</th>\n",
       "      <td>2.165500</td>\n",
       "      <td>4.530000</td>\n",
       "      <td>3.318500</td>\n",
       "      <td>4.275000</td>\n",
       "      <td>2.149000</td>\n",
       "      <td>4.215000</td>\n",
       "      <td>2.355500</td>\n",
       "      <td>3.310000</td>\n",
       "    </tr>\n",
       "    <tr>\n",
       "      <th>max</th>\n",
       "      <td>3.055500</td>\n",
       "      <td>102.375000</td>\n",
       "      <td>4.036500</td>\n",
       "      <td>102.625000</td>\n",
       "      <td>6.038333</td>\n",
       "      <td>101.905000</td>\n",
       "      <td>6.060000</td>\n",
       "      <td>101.655000</td>\n",
       "    </tr>\n",
       "  </tbody>\n",
       "</table>\n",
       "</div>"
      ],
      "text/plain": [
       "            Power-1  Temperature-1       Power-2  Temperature-2       Power-3  \\\n",
       "count  14400.000000   14400.000000  14400.000000   14400.000000  14400.000000   \n",
       "mean       1.117388       3.815729      1.649825       2.032753      1.577693   \n",
       "std        0.921004       2.035919      1.509209       3.344255      0.920346   \n",
       "min        0.000000       1.650000      0.000000      -4.090000      0.000000   \n",
       "25%        0.293000       2.840000      0.389500      -0.250000      0.278000   \n",
       "50%        0.321000       3.805000      0.394500       1.905000      2.083000   \n",
       "75%        2.165500       4.530000      3.318500       4.275000      2.149000   \n",
       "max        3.055500     102.375000      4.036500     102.625000      6.038333   \n",
       "\n",
       "       Temperature-3       Power-4  Temperature-4  \n",
       "count   14400.000000  14400.000000   14400.000000  \n",
       "mean        4.118913      1.253750       2.930061  \n",
       "std         3.401599      1.024295       2.578354  \n",
       "min         1.090000      0.000000       0.000000  \n",
       "25%         2.180000      0.308500       1.590000  \n",
       "50%         2.840000      1.272250       2.435000  \n",
       "75%         4.215000      2.355500       3.310000  \n",
       "max       101.905000      6.060000     101.655000  "
      ]
     },
     "execution_count": 153,
     "metadata": {},
     "output_type": "execute_result"
    }
   ],
   "source": [
    "df.describe()"
   ]
  },
  {
   "cell_type": "markdown",
   "id": "8630fc5c",
   "metadata": {},
   "source": [
    "From obseving the above stats, we can see that max temperature is over 100 deg celsius, usually the temp range lies in 1-4 deg celsius. \n",
    "\n",
    "Hence we can't rely on min and max temps, we use IQR from box plot to visualize range and usual extremes"
   ]
  },
  {
   "cell_type": "code",
   "execution_count": 148,
   "id": "126ffbdb",
   "metadata": {},
   "outputs": [
    {
     "name": "stdout",
     "output_type": "stream",
     "text": [
      "[2.8] [4.5]\n"
     ]
    },
    {
     "data": {
      "image/png": "[encoded data removed]",
      "text/plain": [
       "<Figure size 432x288 with 1 Axes>"
      ]
     },
     "metadata": {
      "needs_background": "light"
     },
     "output_type": "display_data"
    }
   ],
   "source": [
    "bp1=plt.boxplot(df['Temperature-1'])\n",
    "[item.get_ydata() for item in bp1['boxes']]\n",
    "q1_1 = [round(min(item.get_ydata()), 1) for item in bp1['boxes']]\n",
    "q3_1 = [round(max(item.get_ydata()), 1) for item in bp1['boxes']]\n",
    "print(q1_1,q3_1)"
   ]
  },
  {
   "cell_type": "code",
   "execution_count": 149,
   "id": "e4cd3946",
   "metadata": {},
   "outputs": [
    {
     "name": "stdout",
     "output_type": "stream",
     "text": [
      "[-0.2] [4.3]\n"
     ]
    },
    {
     "data": {
      "image/png": "[encoded data removed]",
      "text/plain": [
       "<Figure size 432x288 with 1 Axes>"
      ]
     },
     "metadata": {
      "needs_background": "light"
     },
     "output_type": "display_data"
    }
   ],
   "source": [
    "bp2=plt.boxplot(df['Temperature-2'])\n",
    "[item.get_ydata() for item in bp2['boxes']]\n",
    "q1_2 = [round(min(item.get_ydata()), 1) for item in bp2['boxes']]\n",
    "q3_2 = [round(max(item.get_ydata()), 1) for item in bp2['boxes']]\n",
    "print(q1_2,q3_2)"
   ]
  },
  {
   "cell_type": "code",
   "execution_count": 150,
   "id": "1e7d1cc7",
   "metadata": {},
   "outputs": [
    {
     "name": "stdout",
     "output_type": "stream",
     "text": [
      "[2.2] [4.2]\n"
     ]
    },
    {
     "data": {
      "image/png": "[encoded data removed]",
      "text/plain": [
       "<Figure size 432x288 with 1 Axes>"
      ]
     },
     "metadata": {
      "needs_background": "light"
     },
     "output_type": "display_data"
    }
   ],
   "source": [
    "bp3=plt.boxplot(df['Temperature-3'])\n",
    "[item.get_ydata() for item in bp3['boxes']]\n",
    "q1_3 = [round(min(item.get_ydata()), 1) for item in bp3['boxes']]\n",
    "q3_3 = [round(max(item.get_ydata()), 1) for item in bp3['boxes']]\n",
    "print(q1_3,q3_3)"
   ]
  },
  {
   "cell_type": "code",
   "execution_count": 151,
   "id": "a2f447c4",
   "metadata": {},
   "outputs": [
    {
     "name": "stdout",
     "output_type": "stream",
     "text": [
      "[1.6] [3.3]\n"
     ]
    },
    {
     "data": {
      "image/png": "[encoded data removed]",
      "text/plain": [
       "<Figure size 432x288 with 1 Axes>"
      ]
     },
     "metadata": {
      "needs_background": "light"
     },
     "output_type": "display_data"
    }
   ],
   "source": [
    "bp4=plt.boxplot(df['Temperature-4'])\n",
    "[item.get_ydata() for item in bp4['boxes']]\n",
    "q1_4 = [round(min(item.get_ydata()), 1) for item in bp4['boxes']]\n",
    "q3_4 = [round(max(item.get_ydata()), 1) for item in bp4['boxes']]\n",
    "print(q1_4,q3_4)"
   ]
  },
  {
   "cell_type": "code",
   "execution_count": 167,
   "id": "65933ffe",
   "metadata": {},
   "outputs": [
    {
     "data": {
      "text/html": [
       "<div>\n",
       "<style scoped>\n",
       "    .dataframe tbody tr th:only-of-type {\n",
       "        vertical-align: middle;\n",
       "    }\n",
       "\n",
       "    .dataframe tbody tr th {\n",
       "        vertical-align: top;\n",
       "    }\n",
       "\n",
       "    .dataframe thead th {\n",
       "        text-align: right;\n",
       "    }\n",
       "</style>\n",
       "<table border=\"1\" class=\"dataframe\">\n",
       "  <thead>\n",
       "    <tr style=\"text-align: right;\">\n",
       "      <th></th>\n",
       "      <th>System</th>\n",
       "      <th>Min_Temp</th>\n",
       "      <th>Max_Temp</th>\n",
       "      <th>Range (in deg Celsius)</th>\n",
       "    </tr>\n",
       "  </thead>\n",
       "  <tbody>\n",
       "    <tr>\n",
       "      <th>0</th>\n",
       "      <td>Refrigirator-1</td>\n",
       "      <td>[2.8]</td>\n",
       "      <td>[4.5]</td>\n",
       "      <td>2 to 4.5</td>\n",
       "    </tr>\n",
       "    <tr>\n",
       "      <th>1</th>\n",
       "      <td>Refrigirator-2</td>\n",
       "      <td>[-0.2]</td>\n",
       "      <td>[4.3]</td>\n",
       "      <td>-1 to 4.5</td>\n",
       "    </tr>\n",
       "    <tr>\n",
       "      <th>2</th>\n",
       "      <td>Refrigirator-3</td>\n",
       "      <td>[2.2]</td>\n",
       "      <td>[4.2]</td>\n",
       "      <td>2 to 4.5</td>\n",
       "    </tr>\n",
       "    <tr>\n",
       "      <th>3</th>\n",
       "      <td>Refrigirator-4</td>\n",
       "      <td>[1.6]</td>\n",
       "      <td>[3.3]</td>\n",
       "      <td>1 to 4</td>\n",
       "    </tr>\n",
       "  </tbody>\n",
       "</table>\n",
       "</div>"
      ],
      "text/plain": [
       "           System Min_Temp Max_Temp Range (in deg Celsius)\n",
       "0  Refrigirator-1    [2.8]    [4.5]               2 to 4.5\n",
       "1  Refrigirator-2   [-0.2]    [4.3]              -1 to 4.5\n",
       "2  Refrigirator-3    [2.2]    [4.2]               2 to 4.5\n",
       "3  Refrigirator-4    [1.6]    [3.3]                 1 to 4"
      ]
     },
     "execution_count": 167,
     "metadata": {},
     "output_type": "execute_result"
    }
   ],
   "source": [
    "# Considering 25th Percentile and 75th Percentile as extremes\n",
    "\n",
    "df_temp= pd.DataFrame({'System':b,'Min_Temp':[q1_1,q1_2,q1_3,q1_4],'Max_Temp':[q3_1,q3_2,q3_3,q3_4]})\n",
    "r= ['2 to 4.5','-1 to 4.5','2 to 4.5','1 to 4']\n",
    "df_temp['Range (in deg Celsius)']=r\n",
    "df_temp"
   ]
  },
  {
   "cell_type": "markdown",
   "id": "8b0e196a",
   "metadata": {},
   "source": [
    "## Percentage of temperature compliance"
   ]
  },
  {
   "cell_type": "markdown",
   "id": "1d813c0a",
   "metadata": {},
   "source": [
    "Compliance percentage is the percent of items with in the given range, here Temperature Compliance is no of values lying between the ideal range 1-4 deg celsius would be compliant.\n",
    "\n",
    "Percentage of temperature compliance= no.of compliant values (i.e temps lying between 1-4)*100/ total values recorded"
   ]
  },
  {
   "cell_type": "code",
   "execution_count": 178,
   "id": "85933f3c",
   "metadata": {},
   "outputs": [],
   "source": [
    "comp_1=len(df[(df['Temperature-1']>=1) & (df['Temperature-1']<=4)]['Power-1'])*100/14400"
   ]
  },
  {
   "cell_type": "code",
   "execution_count": 179,
   "id": "75534ee6",
   "metadata": {},
   "outputs": [],
   "source": [
    "comp_2=len(df[(df['Temperature-2']>=1) & (df['Temperature-2']<=4)]['Power-2'])*100/14400"
   ]
  },
  {
   "cell_type": "code",
   "execution_count": 180,
   "id": "fae12a0f",
   "metadata": {},
   "outputs": [],
   "source": [
    "comp_3=len(df[(df['Temperature-3']>=1) & (df['Temperature-3']<=4)]['Power-3'])*100/14400"
   ]
  },
  {
   "cell_type": "code",
   "execution_count": 181,
   "id": "1775809a",
   "metadata": {},
   "outputs": [],
   "source": [
    "comp_4=len(df[(df['Temperature-4']>=1) & (df['Temperature-4']<=4)]['Power-4'])*100/14400"
   ]
  },
  {
   "cell_type": "code",
   "execution_count": 184,
   "id": "c38e89f6",
   "metadata": {},
   "outputs": [
    {
     "data": {
      "text/html": [
       "<div>\n",
       "<style scoped>\n",
       "    .dataframe tbody tr th:only-of-type {\n",
       "        vertical-align: middle;\n",
       "    }\n",
       "\n",
       "    .dataframe tbody tr th {\n",
       "        vertical-align: top;\n",
       "    }\n",
       "\n",
       "    .dataframe thead th {\n",
       "        text-align: right;\n",
       "    }\n",
       "</style>\n",
       "<table border=\"1\" class=\"dataframe\">\n",
       "  <thead>\n",
       "    <tr style=\"text-align: right;\">\n",
       "      <th></th>\n",
       "      <th>System</th>\n",
       "      <th>Percentage of temperature compliance</th>\n",
       "    </tr>\n",
       "  </thead>\n",
       "  <tbody>\n",
       "    <tr>\n",
       "      <th>0</th>\n",
       "      <td>Refrigirator-1</td>\n",
       "      <td>55.791667</td>\n",
       "    </tr>\n",
       "    <tr>\n",
       "      <th>1</th>\n",
       "      <td>Refrigirator-2</td>\n",
       "      <td>30.659722</td>\n",
       "    </tr>\n",
       "    <tr>\n",
       "      <th>2</th>\n",
       "      <td>Refrigirator-3</td>\n",
       "      <td>73.125000</td>\n",
       "    </tr>\n",
       "    <tr>\n",
       "      <th>3</th>\n",
       "      <td>Refrigirator-4</td>\n",
       "      <td>85.743056</td>\n",
       "    </tr>\n",
       "  </tbody>\n",
       "</table>\n",
       "</div>"
      ],
      "text/plain": [
       "           System  Percentage of temperature compliance\n",
       "0  Refrigirator-1                             55.791667\n",
       "1  Refrigirator-2                             30.659722\n",
       "2  Refrigirator-3                             73.125000\n",
       "3  Refrigirator-4                             85.743056"
      ]
     },
     "execution_count": 184,
     "metadata": {},
     "output_type": "execute_result"
    }
   ],
   "source": [
    "df_comp= pd.DataFrame({'System':b,'Percentage of temperature compliance':[comp_1,comp_2,comp_3,comp_4]})\n",
    "df_comp"
   ]
  }
 ],
 "metadata": {
  "kernelspec": {
   "display_name": "Python 3 (ipykernel)",
   "language": "python",
   "name": "python3"
  },
  "language_info": {
   "codemirror_mode": {
    "name": "ipython",
    "version": 3
   },
   "file_extension": ".py",
   "mimetype": "text/x-python",
   "name": "python",
   "nbconvert_exporter": "python",
   "pygments_lexer": "ipython3",
   "version": "3.9.12"
  }
 },
 "nbformat": 4,
 "nbformat_minor": 5
}
